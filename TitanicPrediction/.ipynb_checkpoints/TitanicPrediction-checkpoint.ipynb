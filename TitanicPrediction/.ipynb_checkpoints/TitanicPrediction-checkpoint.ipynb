{
 "cells": [
  {
   "cell_type": "code",
   "execution_count": 46,
   "metadata": {},
   "outputs": [
    {
     "data": {
      "text/html": [
       "Installing package Microsoft.ML, version 1.3.1..done!"
      ]
     },
     "metadata": {},
     "output_type": "display_data"
    },
    {
     "data": {
      "text/html": [
       "Successfully added reference to package Microsoft.ML, version 1.3.1"
      ]
     },
     "metadata": {},
     "output_type": "display_data"
    },
    {
     "data": {
      "text/html": [
       "Installing package XPlot.Plotly, version 2.0.0..done!"
      ]
     },
     "metadata": {},
     "output_type": "display_data"
    },
    {
     "data": {
      "text/html": [
       "Successfully added reference to package XPlot.Plotly, version 2.0.0"
      ]
     },
     "metadata": {},
     "output_type": "display_data"
    }
   ],
   "source": [
    "// ML.NET Nuget packages installation\n",
    "#r \"nuget:Microsoft.ML,1.3.1\"\n",
    "//Install XPlot package\n",
    "#r \"nuget:XPlot.Plotly,2.0.0\"\n",
    "\n",
    "using System.IO;\n",
    "using Microsoft.ML;\n",
    "using Microsoft.ML.Data;\n",
    "using XPlot.Plotly;"
   ]
  },
  {
   "cell_type": "code",
   "execution_count": 47,
   "metadata": {},
   "outputs": [],
   "source": [
    " public class PaxTrip\n",
    "    { //\"PassengerId\",\"Survived\",\"Pclass\",\"Name\",\"Sex\",\"Age\",\"SibSp\",\"Parch\",\"Ticket\",\"Fare\",\"Cabin\",\"Embarked\"\n",
    "        //[LoadColumn(0)] public float PassengerId { get; set; }\n",
    "        public bool Label { get; set; }\n",
    "        public float Pclass { get; set; }\n",
    "        public string Name { get; set; }\n",
    "        public string Sex { get; set; }\n",
    "        public string RawAge { get; set; }\n",
    "        public float SibSp { get; set; }\n",
    "        public float Parch { get; set; }\n",
    "        public string Ticket { get; set; }\n",
    "        public float Fare { get; set; }\n",
    "        public string Cabin { get; set; }\n",
    "        public string Embarked { get; set; }\n",
    "\n",
    "    }\n",
    "    public class PaxTripFarePrediction\n",
    "    {\n",
    "        [ColumnName(\"PredictedLabel\")] public bool Prediction;\n",
    "        public float Probability;\n",
    "        public float Score;\n",
    "    }\n",
    "    /// <summary>\n",
    "    /// The RawAge class is a helper class for a column transformation.\n",
    "    /// </summary>\n",
    "    public class FromAge\n",
    "    {\n",
    "        public string RawAge;\n",
    "    }\n",
    "\n",
    "    /// <summary>\n",
    "    /// The ProcessedAge class is a helper class for a column transformation.\n",
    "    /// </summary>\n",
    "    public class ToAge\n",
    "    {\n",
    "        public string Age;\n",
    "    }"
   ]
  },
  {
   "cell_type": "code",
   "execution_count": 49,
   "metadata": {},
   "outputs": [
    {
     "data": {
      "text/html": [
       "<h1>Loading data....</h1>"
      ]
     },
     "metadata": {},
     "output_type": "display_data"
    },
    {
     "data": {
      "text/html": [
       "<h4>Schema of training DataView:</h4>"
      ]
     },
     "metadata": {},
     "output_type": "display_data"
    },
    {
     "data": {
      "text/html": [
       "<table><thead><tr><th><i>index</i></th><th>Name</th><th>Index</th><th>IsHidden</th><th>Type</th><th>Annotations</th></tr></thead><tbody><tr><td>0</td><td>Label</td><td>0</td><td>False</td><td>{ Microsoft.ML.Data.BooleanDataViewType: RawType: System.Boolean }</td><td>{ Microsoft.ML.DataViewSchema+Annotations: Schema: [  ] }</td></tr><tr><td>1</td><td>Pclass</td><td>1</td><td>False</td><td>{ Microsoft.ML.Data.NumberDataViewType: RawType: System.Single }</td><td>{ Microsoft.ML.DataViewSchema+Annotations: Schema: [  ] }</td></tr><tr><td>2</td><td>Name</td><td>2</td><td>False</td><td>{ Microsoft.ML.Data.TextDataViewType: RawType: System.ReadOnlyMemory&lt;System.Char&gt; }</td><td>{ Microsoft.ML.DataViewSchema+Annotations: Schema: [  ] }</td></tr><tr><td>3</td><td>Sex</td><td>3</td><td>False</td><td>{ Microsoft.ML.Data.TextDataViewType: RawType: System.ReadOnlyMemory&lt;System.Char&gt; }</td><td>{ Microsoft.ML.DataViewSchema+Annotations: Schema: [  ] }</td></tr><tr><td>4</td><td>RawAge</td><td>4</td><td>False</td><td>{ Microsoft.ML.Data.TextDataViewType: RawType: System.ReadOnlyMemory&lt;System.Char&gt; }</td><td>{ Microsoft.ML.DataViewSchema+Annotations: Schema: [  ] }</td></tr><tr><td>5</td><td>SibSp</td><td>5</td><td>False</td><td>{ Microsoft.ML.Data.NumberDataViewType: RawType: System.Single }</td><td>{ Microsoft.ML.DataViewSchema+Annotations: Schema: [  ] }</td></tr><tr><td>6</td><td>Parch</td><td>6</td><td>False</td><td>{ Microsoft.ML.Data.NumberDataViewType: RawType: System.Single }</td><td>{ Microsoft.ML.DataViewSchema+Annotations: Schema: [  ] }</td></tr><tr><td>7</td><td>Ticket</td><td>7</td><td>False</td><td>{ Microsoft.ML.Data.TextDataViewType: RawType: System.ReadOnlyMemory&lt;System.Char&gt; }</td><td>{ Microsoft.ML.DataViewSchema+Annotations: Schema: [  ] }</td></tr><tr><td>8</td><td>Fare</td><td>8</td><td>False</td><td>{ Microsoft.ML.Data.NumberDataViewType: RawType: System.Single }</td><td>{ Microsoft.ML.DataViewSchema+Annotations: Schema: [  ] }</td></tr><tr><td>9</td><td>Cabin</td><td>9</td><td>False</td><td>{ Microsoft.ML.Data.TextDataViewType: RawType: System.ReadOnlyMemory&lt;System.Char&gt; }</td><td>{ Microsoft.ML.DataViewSchema+Annotations: Schema: [  ] }</td></tr><tr><td>10</td><td>Embarked</td><td>10</td><td>False</td><td>{ Microsoft.ML.Data.TextDataViewType: RawType: System.ReadOnlyMemory&lt;System.Char&gt; }</td><td>{ Microsoft.ML.DataViewSchema+Annotations: Schema: [  ] }</td></tr></tbody></table>"
      ]
     },
     "metadata": {},
     "output_type": "display_data"
    }
   ],
   "source": [
    "display(h1(\"Loading data....\"));\n",
    " \n",
    "MLContext mlContext = new MLContext(seed: 0);\n",
    "\n",
    "// set up a text loader\n",
    "            var textLoader = mlContext.Data.CreateTextLoader(\n",
    "                new TextLoader.Options()\n",
    "                {\n",
    "                    Separators = new[] { ',' },\n",
    "                    HasHeader = true,\n",
    "                    AllowQuoting = true,\n",
    "                    Columns = new[]\n",
    "                    {\n",
    "                    new TextLoader.Column(\"Label\", DataKind.Boolean, 1),\n",
    "                    new TextLoader.Column(\"Pclass\", DataKind.Single, 2),\n",
    "                    new TextLoader.Column(\"Name\", DataKind.String, 3),\n",
    "                    new TextLoader.Column(\"Sex\", DataKind.String, 4),\n",
    "                    new TextLoader.Column(\"RawAge\", DataKind.String, 5),  // <-- not a float!\n",
    "                    new TextLoader.Column(\"SibSp\", DataKind.Single, 6),\n",
    "                    new TextLoader.Column(\"Parch\", DataKind.Single, 7),\n",
    "                    new TextLoader.Column(\"Ticket\", DataKind.String, 8),\n",
    "                    new TextLoader.Column(\"Fare\", DataKind.Single, 9),\n",
    "                    new TextLoader.Column(\"Cabin\", DataKind.String, 10),\n",
    "                    new TextLoader.Column(\"Embarked\", DataKind.String, 11)\n",
    "                    }\n",
    "                }\n",
    "            );\n",
    " \n",
    "string trainingDataPath = Path.Combine(Environment.CurrentDirectory, \"train_data.csv\");\n",
    "string testDataPath = Path.Combine(Environment.CurrentDirectory, \"test_data.csv\");\n",
    " \n",
    "IDataView trainDataView = textLoader.Load(trainingDataPath);\n",
    "IDataView testDataView = textLoader.Load(testDataPath);\n",
    " \n",
    "display(h4(\"Schema of training DataView:\"));\n",
    "display(trainDataView.Schema);"
   ]
  },
  {
   "cell_type": "code",
   "execution_count": 50,
   "metadata": {},
   "outputs": [
    {
     "data": {
      "text/plain": [
       "Showing 10 rows"
      ]
     },
     "metadata": {},
     "output_type": "display_data"
    },
    {
     "data": {
      "text/plain": [
       "DataView: Showing 4 rows with the columns"
      ]
     },
     "metadata": {},
     "output_type": "display_data"
    },
    {
     "data": {
      "text/html": [
       "<table><thead><tr><th><i>index</i></th><th>Label</th><th>Pclass</th><th>Name</th><th>Sex</th><th>RawAge</th><th>SibSp</th><th>Parch</th><th>Ticket</th><th>Fare</th><th>Cabin</th><th>Embarked</th></tr></thead><tbody><tr><td>0</td><td>True</td><td>1</td><td>Thorne, Mrs. Gertrude Maybelle</td><td>female</td><td></td><td>0</td><td>0</td><td>PC 17585</td><td>79.2</td><td></td><td>C</td></tr><tr><td>1</td><td>True</td><td>1</td><td>Silverthorne, Mr. Spencer Victor</td><td>male</td><td>35</td><td>0</td><td>0</td><td>PC 17475</td><td>26.2875</td><td>E24</td><td>S</td></tr><tr><td>2</td><td>False</td><td>3</td><td>Asim, Mr. Adola</td><td>male</td><td>35</td><td>0</td><td>0</td><td>SOTON/O.Q. 3101310</td><td>7.05</td><td></td><td>S</td></tr><tr><td>3</td><td>False</td><td>3</td><td>Ali, Mr. William</td><td>male</td><td>25</td><td>0</td><td>0</td><td>SOTON/O.Q. 3101312</td><td>7.05</td><td></td><td>S</td></tr></tbody></table>"
      ]
     },
     "metadata": {},
     "output_type": "display_data"
    }
   ],
   "source": [
    "//Util class to preview loaded data in IDataView\n",
    "\n",
    "public static List<PaxTrip> Head(MLContext mlContext, IDataView dataView, int numberOfRows = 4)\n",
    "{\n",
    "    string msg = string.Format(\"DataView: Showing {0} rows with the columns\", numberOfRows.ToString());\n",
    "    display(msg);\n",
    "          \n",
    "    var rows = mlContext.Data.CreateEnumerable<PaxTrip>(dataView, reuseRowObject: false)\n",
    "                    .Take(numberOfRows)\n",
    "                    .ToList();\n",
    "    \n",
    "    return rows;\n",
    "}\n",
    "\n",
    "\n",
    "display(\"Showing 10 rows\");\n",
    "var tenRows = Head(mlContext,trainDataView, 4);\n",
    "display(tenRows);"
   ]
  },
  {
   "cell_type": "code",
   "execution_count": 54,
   "metadata": {},
   "outputs": [
    {
     "data": {
      "text/html": [
       "<div id=\"92943e1f-e509-498f-b2be-77679c5ff354\" style=\"width: 900px; height: 500px;\"></div><script type=\"text/javascript\">\n",
       "\r\n",
       "var renderPlotly = function() {\r\n",
       "    var xplotRequire = requirejs.config({context:'xplot-2.0.0',paths:{plotly:'https://cdn.plot.ly/plotly-1.49.2.min'}});\r\n",
       "    xplotRequire(['plotly'], function(Plotly) {\n",
       "\n",
       "            var data = [{\"type\":\"histogram\",\"x\":[\"female\",\"male\",\"male\",\"male\",\"male\",\"female\",\"male\",\"male\",\"female\",\"female\",\"female\",\"male\",\"male\",\"female\",\"male\",\"male\",\"female\",\"male\",\"male\",\"male\",\"female\",\"male\",\"female\",\"female\",\"male\",\"male\",\"male\",\"female\",\"male\",\"male\",\"female\",\"male\",\"female\",\"male\",\"male\",\"male\",\"male\",\"female\",\"male\",\"male\",\"male\",\"male\",\"male\",\"female\",\"male\",\"male\",\"male\",\"female\",\"male\",\"male\",\"female\",\"male\",\"female\",\"male\",\"female\",\"female\",\"female\",\"male\",\"male\",\"female\",\"male\",\"male\",\"female\",\"male\",\"male\",\"male\",\"male\",\"female\",\"female\",\"male\",\"male\",\"male\",\"female\",\"male\",\"male\",\"male\",\"female\",\"female\",\"male\",\"male\",\"male\",\"female\",\"female\",\"male\",\"male\",\"male\",\"female\",\"male\",\"male\",\"female\",\"male\",\"male\",\"female\",\"male\",\"female\",\"male\",\"male\",\"male\",\"male\",\"male\",\"female\",\"male\",\"male\",\"male\",\"female\",\"male\",\"female\",\"male\",\"male\",\"male\",\"female\",\"male\",\"female\",\"male\",\"female\",\"male\",\"male\",\"male\",\"male\",\"male\",\"male\",\"female\",\"male\",\"male\",\"male\",\"male\",\"male\",\"male\",\"male\",\"male\",\"male\",\"female\",\"male\",\"female\",\"female\",\"female\",\"male\",\"male\",\"female\",\"female\",\"female\",\"female\",\"male\",\"male\",\"male\",\"female\",\"male\",\"male\",\"male\",\"male\",\"female\",\"female\",\"male\",\"male\",\"male\",\"male\",\"male\",\"male\",\"male\",\"male\",\"female\",\"female\",\"female\",\"female\",\"female\",\"female\",\"male\",\"male\",\"male\",\"male\",\"male\",\"female\",\"female\",\"male\",\"female\",\"male\",\"male\",\"male\",\"male\",\"male\",\"male\",\"male\",\"male\",\"male\",\"male\",\"male\",\"female\",\"male\",\"female\",\"male\",\"female\",\"male\",\"male\",\"female\",\"male\",\"male\",\"male\",\"female\",\"male\",\"female\",\"male\",\"male\",\"male\",\"male\",\"female\",\"male\",\"female\",\"male\",\"male\",\"male\",\"female\",\"female\",\"male\",\"male\",\"female\",\"male\",\"female\",\"female\",\"female\",\"female\",\"male\",\"male\",\"male\",\"female\",\"male\",\"male\",\"male\",\"male\",\"male\",\"male\",\"female\",\"male\",\"female\",\"male\",\"male\",\"male\",\"male\",\"male\",\"male\",\"female\",\"male\",\"male\",\"female\",\"male\",\"male\",\"male\",\"female\",\"male\",\"male\",\"male\",\"male\",\"female\",\"male\",\"male\",\"male\",\"male\",\"male\",\"male\",\"male\",\"male\",\"male\",\"male\",\"male\",\"female\",\"female\",\"male\",\"male\",\"female\",\"male\",\"male\",\"female\",\"female\",\"female\",\"male\",\"male\",\"female\",\"female\",\"male\",\"male\",\"male\",\"male\",\"male\",\"female\",\"female\",\"male\",\"male\",\"female\",\"male\",\"male\",\"male\",\"male\",\"male\",\"female\",\"female\",\"male\",\"female\",\"male\",\"female\",\"female\",\"female\",\"female\",\"male\",\"male\",\"male\",\"female\",\"male\",\"male\",\"male\",\"male\",\"female\",\"male\",\"female\",\"female\",\"female\",\"male\",\"male\",\"male\",\"male\",\"male\",\"male\",\"male\",\"female\",\"female\",\"female\",\"female\",\"female\",\"female\",\"male\",\"female\",\"male\",\"female\",\"male\",\"female\",\"male\",\"male\",\"male\",\"male\",\"male\",\"female\",\"female\",\"male\",\"male\",\"male\",\"female\",\"male\",\"male\",\"female\",\"female\",\"male\",\"male\",\"male\",\"female\",\"male\",\"male\",\"male\",\"male\",\"male\",\"male\",\"male\",\"male\",\"male\",\"male\",\"male\",\"male\",\"male\",\"male\",\"male\",\"female\",\"male\",\"male\",\"male\",\"female\",\"male\",\"female\",\"male\",\"male\",\"female\",\"male\",\"male\",\"male\",\"male\",\"female\",\"male\",\"male\",\"female\",\"male\",\"male\",\"female\",\"male\",\"male\",\"male\",\"male\",\"female\",\"male\",\"female\",\"male\",\"female\",\"female\",\"male\",\"male\",\"male\",\"male\",\"male\",\"female\",\"female\",\"female\",\"male\",\"male\",\"male\",\"female\",\"male\",\"female\",\"male\",\"male\",\"male\",\"male\",\"male\",\"male\",\"female\",\"male\",\"female\",\"male\",\"female\",\"male\",\"female\",\"female\",\"female\",\"female\",\"male\",\"male\",\"male\",\"female\",\"female\",\"male\",\"male\",\"male\",\"male\",\"male\",\"female\",\"male\",\"male\",\"male\",\"male\",\"male\",\"female\",\"female\",\"female\",\"male\",\"male\",\"female\",\"male\",\"male\",\"female\",\"female\",\"male\",\"male\",\"male\",\"male\",\"male\",\"female\",\"female\",\"male\",\"female\",\"male\",\"male\",\"female\",\"male\",\"female\",\"female\",\"female\",\"female\",\"female\",\"male\",\"female\",\"male\",\"female\",\"male\",\"male\",\"male\",\"female\",\"female\",\"female\",\"male\",\"male\",\"male\",\"female\",\"male\",\"male\",\"male\",\"male\",\"female\",\"female\",\"male\",\"male\",\"male\",\"male\",\"male\",\"male\",\"male\",\"male\",\"male\",\"female\",\"female\",\"female\",\"male\",\"female\",\"male\",\"male\",\"male\",\"male\",\"female\",\"female\",\"female\",\"male\",\"male\",\"male\",\"male\",\"male\",\"male\",\"female\",\"female\",\"male\",\"male\",\"male\",\"male\",\"male\",\"female\",\"female\",\"female\",\"female\",\"male\",\"female\",\"male\",\"male\",\"female\",\"male\",\"male\",\"female\",\"male\",\"male\",\"male\",\"male\",\"male\",\"male\",\"male\",\"female\",\"female\",\"male\",\"female\",\"male\",\"male\",\"female\",\"female\",\"female\",\"male\",\"male\",\"female\",\"male\",\"male\",\"male\",\"female\",\"female\",\"male\",\"female\",\"male\",\"male\",\"female\",\"male\",\"female\",\"male\",\"female\",\"female\",\"male\",\"male\",\"male\",\"female\",\"female\",\"male\",\"male\",\"male\",\"male\",\"female\",\"male\",\"female\",\"female\",\"male\",\"female\",\"male\",\"male\",\"male\",\"male\",\"female\",\"female\",\"male\",\"male\",\"male\",\"male\",\"male\",\"female\",\"female\",\"male\",\"male\",\"female\",\"male\",\"female\",\"female\",\"female\",\"female\",\"female\",\"male\",\"female\",\"male\",\"male\",\"female\",\"female\",\"female\",\"male\",\"male\",\"male\",\"female\",\"male\",\"male\",\"female\",\"female\",\"female\",\"female\",\"male\",\"female\",\"male\",\"female\",\"female\",\"female\",\"male\",\"male\",\"male\",\"female\",\"male\",\"male\",\"male\",\"male\",\"male\",\"male\",\"male\",\"female\",\"female\",\"male\",\"female\",\"male\",\"male\",\"female\",\"male\",\"male\",\"male\",\"female\",\"male\",\"male\",\"female\",\"female\",\"male\",\"female\",\"female\",\"male\",\"male\",\"male\",\"female\",\"male\",\"female\",\"male\",\"male\",\"female\",\"male\",\"female\",\"female\",\"female\",\"male\",\"male\",\"male\",\"male\",\"male\",\"male\",\"male\",\"male\",\"male\",\"female\",\"male\",\"male\",\"female\",\"female\",\"male\",\"female\",\"male\",\"female\",\"female\",\"male\",\"male\",\"male\",\"male\",\"female\",\"female\",\"female\",\"female\",\"male\",\"male\",\"male\",\"male\",\"male\",\"female\",\"male\",\"male\",\"male\",\"female\",\"male\"],\"autobinx\":false}];\n",
       "            var layout = {\"title\":\"Passengers by Sex\",\"xaxis\":{\"title\":\"Sex\",\"_isSubplotObj\":true},\"yaxis\":{\"title\":\"Count\",\"_isSubplotObj\":true}};\n",
       "            Plotly.newPlot('92943e1f-e509-498f-b2be-77679c5ff354', data, layout);\n",
       "        });\r\n",
       "};\r\n",
       "if ((typeof(requirejs) !==  typeof(Function)) || (typeof(requirejs.config) !== typeof(Function))) { \r\n",
       "    var script = document.createElement(\"script\"); \r\n",
       "    script.setAttribute(\"src\", \"https://cdnjs.cloudflare.com/ajax/libs/require.js/2.3.6/require.min.js\"); \r\n",
       "    script.onload = function(){\r\n",
       "        renderPlotly();\r\n",
       "    };\r\n",
       "    document.getElementsByTagName(\"head\")[0].appendChild(script); \r\n",
       "}\r\n",
       "else {\r\n",
       "    renderPlotly();\r\n",
       "}\n",
       "</script>"
      ]
     },
     "metadata": {},
     "output_type": "display_data"
    }
   ],
   "source": [
    "var pax = mlContext.Data.CreateEnumerable<PaxTrip>(trainDataView, reuseRowObject: false).ToArray();\n",
    "\n",
    "// plot count of pax by sex\n",
    "var chart = Chart.Plot(new Graph.Histogram()\n",
    "    {\n",
    "        x = pax.Select(v => v.Sex), \n",
    "        autobinx = false\n",
    "    }\n",
    ");\n",
    "var layout = new Layout.Layout(){title=\"Passengers by Sex\"};\n",
    "chart.WithLayout(layout);\n",
    "chart.WithXTitle(\"Sex\");\n",
    "chart.WithYTitle(\"Count\");;\n",
    "display(chart);"
   ]
  },
  {
   "cell_type": "code",
   "execution_count": 56,
   "metadata": {},
   "outputs": [
    {
     "data": {
      "text/html": [
       "<div id=\"79b1da7b-4f79-461a-a97b-f1ed15714790\" style=\"width: 900px; height: 500px;\"></div><script type=\"text/javascript\">\n",
       "\r\n",
       "var renderPlotly = function() {\r\n",
       "    var xplotRequire = requirejs.config({context:'xplot-2.0.0',paths:{plotly:'https://cdn.plot.ly/plotly-1.49.2.min'}});\r\n",
       "    xplotRequire(['plotly'], function(Plotly) {\n",
       "\n",
       "            var data = [{\"type\":\"histogram\",\"x\":[\"C\",\"S\",\"S\",\"S\",\"S\",\"S\",\"S\",\"S\",\"S\",\"S\",\"C\",\"S\",\"S\",\"Q\",\"S\",\"S\",\"C\",\"C\",\"S\",\"C\",\"S\",\"S\",\"C\",\"S\",\"C\",\"Q\",\"S\",\"C\",\"S\",\"Q\",\"\",\"S\",\"Q\",\"S\",\"S\",\"S\",\"S\",\"S\",\"S\",\"S\",\"S\",\"C\",\"S\",\"S\",\"S\",\"S\",\"Q\",\"C\",\"S\",\"S\",\"S\",\"S\",\"S\",\"S\",\"C\",\"S\",\"S\",\"S\",\"S\",\"C\",\"Q\",\"S\",\"S\",\"S\",\"S\",\"C\",\"S\",\"S\",\"Q\",\"C\",\"S\",\"S\",\"C\",\"S\",\"Q\",\"S\",\"C\",\"S\",\"S\",\"S\",\"S\",\"S\",\"C\",\"S\",\"S\",\"S\",\"S\",\"Q\",\"S\",\"C\",\"S\",\"C\",\"Q\",\"C\",\"C\",\"S\",\"S\",\"S\",\"Q\",\"S\",\"S\",\"S\",\"S\",\"S\",\"C\",\"S\",\"S\",\"S\",\"S\",\"S\",\"S\",\"S\",\"Q\",\"C\",\"S\",\"S\",\"S\",\"S\",\"C\",\"C\",\"S\",\"S\",\"S\",\"S\",\"S\",\"S\",\"S\",\"S\",\"S\",\"Q\",\"S\",\"S\",\"Q\",\"S\",\"S\",\"S\",\"C\",\"S\",\"S\",\"Q\",\"S\",\"C\",\"S\",\"S\",\"Q\",\"C\",\"S\",\"C\",\"S\",\"S\",\"S\",\"Q\",\"S\",\"C\",\"S\",\"S\",\"C\",\"S\",\"S\",\"S\",\"C\",\"C\",\"C\",\"S\",\"S\",\"S\",\"S\",\"S\",\"S\",\"S\",\"S\",\"S\",\"S\",\"S\",\"S\",\"S\",\"S\",\"C\",\"S\",\"S\",\"S\",\"S\",\"S\",\"S\",\"S\",\"S\",\"Q\",\"S\",\"C\",\"S\",\"S\",\"S\",\"S\",\"S\",\"S\",\"S\",\"S\",\"S\",\"S\",\"S\",\"S\",\"S\",\"S\",\"C\",\"S\",\"S\",\"S\",\"S\",\"Q\",\"S\",\"S\",\"S\",\"S\",\"C\",\"Q\",\"S\",\"S\",\"S\",\"C\",\"S\",\"S\",\"S\",\"C\",\"S\",\"S\",\"S\",\"S\",\"S\",\"S\",\"S\",\"S\",\"S\",\"S\",\"S\",\"Q\",\"Q\",\"S\",\"C\",\"S\",\"C\",\"S\",\"S\",\"C\",\"S\",\"S\",\"Q\",\"S\",\"S\",\"C\",\"S\",\"S\",\"S\",\"S\",\"S\",\"S\",\"S\",\"S\",\"Q\",\"S\",\"S\",\"C\",\"S\",\"S\",\"S\",\"S\",\"S\",\"S\",\"S\",\"S\",\"S\",\"S\",\"S\",\"Q\",\"S\",\"S\",\"S\",\"C\",\"C\",\"S\",\"Q\",\"S\",\"S\",\"Q\",\"S\",\"S\",\"S\",\"C\",\"S\",\"S\",\"S\",\"S\",\"C\",\"C\",\"S\",\"S\",\"S\",\"S\",\"\",\"S\",\"S\",\"S\",\"Q\",\"S\",\"Q\",\"C\",\"S\",\"S\",\"S\",\"S\",\"S\",\"S\",\"S\",\"Q\",\"C\",\"S\",\"S\",\"S\",\"C\",\"S\",\"S\",\"S\",\"Q\",\"S\",\"S\",\"S\",\"C\",\"S\",\"S\",\"S\",\"S\",\"S\",\"S\",\"C\",\"S\",\"S\",\"C\",\"S\",\"S\",\"S\",\"C\",\"S\",\"C\",\"S\",\"S\",\"S\",\"S\",\"S\",\"S\",\"S\",\"S\",\"C\",\"S\",\"S\",\"S\",\"S\",\"S\",\"S\",\"S\",\"C\",\"S\",\"S\",\"S\",\"Q\",\"S\",\"S\",\"S\",\"S\",\"C\",\"S\",\"S\",\"S\",\"S\",\"S\",\"S\",\"S\",\"S\",\"C\",\"S\",\"S\",\"S\",\"C\",\"S\",\"S\",\"S\",\"Q\",\"S\",\"S\",\"S\",\"Q\",\"S\",\"S\",\"S\",\"C\",\"S\",\"C\",\"C\",\"S\",\"S\",\"S\",\"S\",\"C\",\"S\",\"S\",\"S\",\"C\",\"C\",\"S\",\"C\",\"S\",\"Q\",\"S\",\"S\",\"S\",\"S\",\"S\",\"S\",\"S\",\"S\",\"S\",\"S\",\"C\",\"S\",\"S\",\"S\",\"S\",\"C\",\"S\",\"S\",\"C\",\"S\",\"S\",\"S\",\"S\",\"S\",\"S\",\"C\",\"C\",\"C\",\"Q\",\"S\",\"S\",\"C\",\"S\",\"C\",\"S\",\"S\",\"S\",\"S\",\"S\",\"S\",\"S\",\"S\",\"Q\",\"S\",\"S\",\"S\",\"S\",\"S\",\"S\",\"S\",\"S\",\"S\",\"S\",\"S\",\"S\",\"S\",\"C\",\"S\",\"S\",\"S\",\"S\",\"S\",\"S\",\"S\",\"S\",\"S\",\"S\",\"C\",\"S\",\"S\",\"S\",\"S\",\"C\",\"Q\",\"S\",\"S\",\"S\",\"C\",\"C\",\"S\",\"C\",\"Q\",\"S\",\"C\",\"C\",\"C\",\"S\",\"S\",\"S\",\"C\",\"S\",\"S\",\"S\",\"S\",\"S\",\"S\",\"S\",\"S\",\"S\",\"C\",\"C\",\"S\",\"C\",\"S\",\"S\",\"C\",\"S\",\"S\",\"S\",\"Q\",\"S\",\"S\",\"S\",\"S\",\"S\",\"S\",\"C\",\"S\",\"Q\",\"Q\",\"S\",\"S\",\"Q\",\"C\",\"S\",\"S\",\"C\",\"S\",\"S\",\"C\",\"S\",\"S\",\"Q\",\"S\",\"S\",\"S\",\"C\",\"S\",\"S\",\"S\",\"S\",\"S\",\"S\",\"Q\",\"S\",\"S\",\"C\",\"S\",\"S\",\"S\",\"S\",\"C\",\"S\",\"S\",\"S\",\"S\",\"C\",\"C\",\"S\",\"C\",\"S\",\"Q\",\"S\",\"S\",\"Q\",\"S\",\"C\",\"S\",\"S\",\"S\",\"S\",\"S\",\"Q\",\"S\",\"S\",\"Q\",\"S\",\"S\",\"C\",\"S\",\"S\",\"S\",\"C\",\"C\",\"C\",\"C\",\"C\",\"S\",\"S\",\"S\",\"S\",\"C\",\"S\",\"S\",\"S\",\"S\",\"S\",\"S\",\"S\",\"S\",\"Q\",\"S\",\"S\",\"C\",\"S\",\"C\",\"Q\",\"S\",\"S\",\"S\",\"C\",\"C\",\"Q\",\"S\",\"S\",\"S\",\"S\",\"S\",\"S\",\"S\",\"Q\",\"S\",\"C\",\"Q\",\"S\",\"S\",\"S\",\"S\",\"C\",\"S\",\"S\",\"S\",\"C\",\"S\",\"Q\",\"S\",\"C\",\"S\",\"C\",\"S\",\"Q\",\"S\",\"Q\",\"S\",\"C\",\"C\",\"S\",\"C\",\"C\",\"S\",\"C\",\"S\",\"C\",\"S\",\"S\",\"Q\",\"S\",\"S\",\"S\",\"Q\",\"C\",\"C\",\"C\",\"C\",\"S\",\"S\",\"S\",\"C\",\"S\",\"S\",\"S\",\"S\",\"Q\",\"S\",\"S\",\"S\",\"S\",\"C\",\"S\",\"S\",\"S\",\"S\",\"S\",\"S\",\"S\",\"Q\",\"S\",\"S\",\"Q\",\"C\",\"S\",\"S\",\"S\",\"C\",\"S\",\"S\",\"S\",\"S\",\"C\",\"S\",\"S\",\"C\"],\"autobinx\":false}];\n",
       "            var layout = {\"title\":\"Passengers by Port Embarked\",\"xaxis\":{\"title\":\"Port\",\"_isSubplotObj\":true},\"yaxis\":{\"title\":\"Count\",\"_isSubplotObj\":true}};\n",
       "            Plotly.newPlot('79b1da7b-4f79-461a-a97b-f1ed15714790', data, layout);\n",
       "        });\r\n",
       "};\r\n",
       "if ((typeof(requirejs) !==  typeof(Function)) || (typeof(requirejs.config) !== typeof(Function))) { \r\n",
       "    var script = document.createElement(\"script\"); \r\n",
       "    script.setAttribute(\"src\", \"https://cdnjs.cloudflare.com/ajax/libs/require.js/2.3.6/require.min.js\"); \r\n",
       "    script.onload = function(){\r\n",
       "        renderPlotly();\r\n",
       "    };\r\n",
       "    document.getElementsByTagName(\"head\")[0].appendChild(script); \r\n",
       "}\r\n",
       "else {\r\n",
       "    renderPlotly();\r\n",
       "}\n",
       "</script>"
      ]
     },
     "metadata": {},
     "output_type": "display_data"
    }
   ],
   "source": [
    "// plot count of pax by city embarked\n",
    "var chart = Chart.Plot(new Graph.Histogram()\n",
    "    {\n",
    "        x = pax.Select(v => v.Embarked), \n",
    "        autobinx = false\n",
    "    }\n",
    ");\n",
    "var layout = new Layout.Layout(){title=\"Passengers by Port Embarked\"};\n",
    "chart.WithLayout(layout);\n",
    "chart.WithXTitle(\"Port\");\n",
    "chart.WithYTitle(\"Count\");;\n",
    "display(chart);"
   ]
  },
  {
   "cell_type": "code",
   "execution_count": 57,
   "metadata": {},
   "outputs": [
    {
     "data": {
      "text/html": [
       "<div id=\"e0d204d0-c6f0-48ab-804a-261ea1e9ce3c\" style=\"width: 900px; height: 500px;\"></div><script type=\"text/javascript\">\n",
       "\r\n",
       "var renderPlotly = function() {\r\n",
       "    var xplotRequire = requirejs.config({context:'xplot-2.0.0',paths:{plotly:'https://cdn.plot.ly/plotly-1.49.2.min'}});\r\n",
       "    xplotRequire(['plotly'], function(Plotly) {\n",
       "\n",
       "            var data = [{\"type\":\"histogram\",\"x\":[true,true,false,false,false,false,false,true,true,false,true,false,false,false,false,false,true,true,true,false,true,false,true,false,false,false,false,true,false,false,true,false,false,false,true,false,false,true,true,false,false,false,false,false,false,false,false,true,true,false,false,false,true,false,true,true,true,false,false,true,false,true,true,false,true,true,false,true,true,false,false,false,true,false,false,false,true,false,false,false,false,false,true,false,false,false,false,false,false,false,false,false,true,false,true,false,true,true,false,false,false,false,false,false,true,false,true,false,false,false,true,false,true,true,true,false,false,false,false,false,false,false,false,false,true,false,false,false,false,false,false,true,true,true,true,false,false,false,true,true,true,true,false,false,false,true,false,false,false,true,true,true,false,false,true,false,false,false,false,false,true,true,true,true,false,true,false,false,true,false,false,false,true,true,true,false,false,false,false,true,false,false,false,true,false,false,true,false,true,false,true,false,false,true,false,false,false,true,false,false,false,true,true,false,false,false,true,false,false,false,true,true,true,false,true,false,true,true,true,false,false,true,false,true,false,false,false,false,false,false,true,false,false,false,false,false,false,false,false,true,false,true,false,false,false,false,true,false,true,false,true,true,false,false,true,false,false,false,false,false,false,false,false,true,true,false,false,true,false,false,true,true,true,false,false,false,true,false,false,false,false,false,true,true,false,false,true,true,false,false,true,false,true,true,false,false,true,true,true,true,false,false,false,false,true,false,false,false,false,true,true,true,true,true,true,false,false,false,false,false,false,false,true,true,true,true,false,false,true,false,true,false,false,false,false,false,false,false,true,true,false,true,true,true,false,true,true,true,false,false,false,false,false,false,false,false,false,false,true,true,false,false,false,false,false,false,false,true,false,false,false,true,true,false,false,false,true,true,false,false,true,false,true,true,true,false,false,true,false,true,true,false,false,true,true,false,true,false,false,true,true,false,false,true,true,true,false,true,false,false,false,false,false,false,false,false,false,false,true,false,true,false,true,false,true,true,true,false,false,false,false,true,true,false,false,true,false,true,true,false,true,false,false,false,true,true,false,true,true,false,false,false,false,true,false,true,false,false,false,true,true,true,false,false,false,true,true,false,false,true,true,true,false,true,false,true,false,false,false,true,true,true,true,false,false,true,false,false,false,false,true,true,true,true,false,false,false,false,true,false,false,false,false,true,false,true,false,true,true,false,false,true,true,false,false,false,false,false,true,true,true,false,false,false,false,true,true,true,true,true,false,true,false,false,false,false,true,false,false,false,false,true,false,false,true,false,true,false,true,false,true,true,true,true,false,false,true,false,false,false,true,true,false,true,false,false,true,true,false,false,true,true,true,false,true,true,true,false,false,false,false,false,false,false,true,false,true,false,false,false,false,false,true,false,false,false,false,false,true,false,false,true,true,false,true,false,false,true,true,false,true,false,false,false,true,true,false,false,true,false,false,false,true,false,true,true,false,true,false,true,true,true,false,false,false,true,false,false,true,false,false,false,true,false,true,true,true,false,true,true,false,true,false,true,false,true,false,true,true,false,true,false,true,false,true,false,true,false,false,false,false,false,true,true,false,false,false,false,false,true,false,false,false,false,false,false,true,true,false,false,false,true,true,false,true,false,false,false,true,true,true,false,false,true,false,false,true,true,false,false,true,false],\"autobinx\":false}];\n",
       "            var layout = {\"title\":\"Count by Survival\",\"xaxis\":{\"title\":\"Survived\",\"_isSubplotObj\":true},\"yaxis\":{\"title\":\"Count\",\"_isSubplotObj\":true}};\n",
       "            Plotly.newPlot('e0d204d0-c6f0-48ab-804a-261ea1e9ce3c', data, layout);\n",
       "        });\r\n",
       "};\r\n",
       "if ((typeof(requirejs) !==  typeof(Function)) || (typeof(requirejs.config) !== typeof(Function))) { \r\n",
       "    var script = document.createElement(\"script\"); \r\n",
       "    script.setAttribute(\"src\", \"https://cdnjs.cloudflare.com/ajax/libs/require.js/2.3.6/require.min.js\"); \r\n",
       "    script.onload = function(){\r\n",
       "        renderPlotly();\r\n",
       "    };\r\n",
       "    document.getElementsByTagName(\"head\")[0].appendChild(script); \r\n",
       "}\r\n",
       "else {\r\n",
       "    renderPlotly();\r\n",
       "}\n",
       "</script>"
      ]
     },
     "metadata": {},
     "output_type": "display_data"
    }
   ],
   "source": [
    "// plot count of pax by city embarked\n",
    "var chart = Chart.Plot(new Graph.Histogram()\n",
    "    {\n",
    "        x = pax.Select(v => v.Label), \n",
    "        autobinx = false\n",
    "    }\n",
    ");\n",
    "var layout = new Layout.Layout(){title=\"Count by Survival\"};\n",
    "chart.WithLayout(layout);\n",
    "chart.WithXTitle(\"Survived\");\n",
    "chart.WithYTitle(\"Count\");;\n",
    "display(chart);"
   ]
  },
  {
   "cell_type": "code",
   "execution_count": null,
   "metadata": {},
   "outputs": [],
   "source": [
    "// Define group for Actual values \n",
    "var GenderBarGraph = new Graph.Bar()\n",
    "{\n",
    "    x = pax,\n",
    "    y = pax.Select(v => v.Sex),\n",
    "    name = \"Sex\"\n",
    "};\n",
    "\n",
    "// Define group for Prediction values \n",
    "var SurvivalBarGraph = new Graph.Bar()\n",
    "{\n",
    "    x = pax,\n",
    "    y = pax.Select(v => v.Label),\n",
    "    name = \"Survived\"\n",
    "};\n",
    "\n",
    "var chart = Chart.Plot(new[] {GenderBarGraph, SurvivalBarGraph});\n",
    "\n",
    "var layout = new Layout.Layout(){barmode = \"group\", title=\"Survival by Gender\"};\n",
    "chart.WithLayout(layout);\n",
    "chart.WithXTitle(\"Sex\");\n",
    "chart.WithYTitle(\"Count\");\n",
    "chart.WithLegend(true);\n",
    "chart.Width = 700;\n",
    "chart.Height = 400;\n",
    "\n",
    "display(chart);"
   ]
  }
 ],
 "metadata": {
  "kernelspec": {
   "display_name": ".NET (C#)",
   "language": "C#",
   "name": ".net-csharp"
  },
  "language_info": {
   "file_extension": ".cs",
   "mimetype": "text/x-csharp",
   "name": "C#",
   "pygments_lexer": "csharp",
   "version": "8.0"
  }
 },
 "nbformat": 4,
 "nbformat_minor": 4
}
